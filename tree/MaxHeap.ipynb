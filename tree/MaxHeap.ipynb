{
 "cells": [
  {
   "cell_type": "markdown",
   "metadata": {},
   "source": [
    "## 最大堆的实现"
   ]
  },
  {
   "cell_type": "code",
   "execution_count": 6,
   "metadata": {},
   "outputs": [],
   "source": [
    "import math"
   ]
  },
  {
   "cell_type": "code",
   "execution_count": 7,
   "metadata": {},
   "outputs": [],
   "source": [
    "class MaxHeap:\n",
    "\n",
    "    def __init__(self, capacity):\n",
    "        assert capacity > 0\n",
    "        self.__capacity = capacity\n",
    "        self.__arr = [None] * capacity\n",
    "        self.__count = 0\n",
    "\n",
    "    def __shiftDown(self, k = 0):\n",
    "        assert k < self.size() and k >= 0\n",
    "        e = self.__arr[k]\n",
    "        while True:\n",
    "            leftChildNode = 2 * k + 1\n",
    "            rightChildNode = leftChildNode + 1\n",
    "            if leftChildNode >= self.size():\n",
    "                break\n",
    "            if rightChildNode < self.size() and self.__arr[rightChildNode] > self.__arr[leftChildNode]:\n",
    "                maxChildNode = rightChildNode\n",
    "            else:\n",
    "                maxChildNode = leftChildNode\n",
    "\n",
    "            if e > self.__arr[maxChildNode]:\n",
    "                break\n",
    "            self.__arr[k] = self.__arr[maxChildNode]\n",
    "            k = maxChildNode\n",
    "        self.__arr[k] = e\n",
    "\n",
    "    def __shiftUp(self, k):\n",
    "        while True:\n",
    "            parentNode = math.floor((k - 1) / 2)\n",
    "            if k > 0 and (self.__arr[k] > self.__arr[parentNode]):\n",
    "                [self.__arr[k], self.__arr[parentNode]] = [self.__arr[parentNode], self.__arr[k]]\n",
    "                k = parentNode\n",
    "            else:\n",
    "                break\n",
    "\n",
    "    def extract(self):\n",
    "        assert not self.isEmpty()\n",
    "        rootNode = self.rootNode()\n",
    "        tailNode = self.tailNode()\n",
    "\n",
    "        self.__arr[0] = tailNode\n",
    "        self.__shiftDown()\n",
    "        self.__count = self.__count - 1\n",
    "        return rootNode\n",
    "\n",
    "    def insert(self, val):\n",
    "        assert not self.isFull()\n",
    "        self.__arr[self.__count] = val\n",
    "        self.__shiftUp(self.__count)\n",
    "        self.__count = self.__count + 1\n",
    "\n",
    "    def size(self):\n",
    "        return self.__count\n",
    "\n",
    "    def isEmpty(self):\n",
    "        return self.__count == 0\n",
    "\n",
    "    def isFull(self):\n",
    "        return self.__count >= self.__capacity\n",
    "\n",
    "    def rootNode(self):\n",
    "        return self.__arr[0]\n",
    "\n",
    "    def tailNode(self):\n",
    "        return self.__arr[self.size() - 1]\n"
   ]
  },
  {
   "cell_type": "code",
   "execution_count": null,
   "metadata": {},
   "outputs": [],
   "source": []
  }
 ],
 "metadata": {
  "kernelspec": {
   "display_name": "Python 3",
   "language": "python",
   "name": "python3"
  },
  "language_info": {
   "codemirror_mode": {
    "name": "ipython",
    "version": 3
   },
   "file_extension": ".py",
   "mimetype": "text/x-python",
   "name": "python",
   "nbconvert_exporter": "python",
   "pygments_lexer": "ipython3",
   "version": "3.6.6"
  }
 },
 "nbformat": 4,
 "nbformat_minor": 2
}
